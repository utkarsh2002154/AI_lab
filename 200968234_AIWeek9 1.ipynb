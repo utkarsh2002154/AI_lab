{
  "nbformat": 4,
  "nbformat_minor": 0,
  "metadata": {
    "colab": {
      "provenance": []
    },
    "kernelspec": {
      "name": "python3",
      "display_name": "Python 3"
    },
    "language_info": {
      "name": "python"
    }
  },
  "cells": [
    {
      "cell_type": "code",
      "execution_count": null,
      "metadata": {
        "id": "V7HMGWbGpXXa"
      },
      "outputs": [],
      "source": [
        "import numpy as np\n",
        "import gym"
      ]
    },
    {
      "cell_type": "code",
      "source": [
        "def monte_carlo_es(env, num_episodes, epsilon, gamma):\n",
        "    # Initialize empty dictionary for storing state-action values\n",
        "    Q = {}\n",
        "    for state in range(env.observation_space.n):\n",
        "        for action in range(env.action_space.n):\n",
        "            Q[(state, action)] = 0.0\n",
        "    \n",
        "    # Initialize empty dictionary for storing state-action counts\n",
        "    N = {}\n",
        "    for state in range(env.observation_space.n):\n",
        "        for action in range(env.action_space.n):\n",
        "            N[(state, action)] = 0\n",
        "    \n",
        "    # Define helper function to generate epsilon-greedy policy\n",
        "    def generate_epsilon_greedy_policy():\n",
        "        def policy(state):\n",
        "            if np.random.uniform(0, 1) < epsilon:\n",
        "                return env.action_space.sample()\n",
        "            else:\n",
        "                q_values = np.array([Q[(state, a)] for a in range(env.action_space.n)])\n",
        "                return np.random.choice(np.where(q_values == q_values.max())[0])\n",
        "        return policy\n",
        "    \n",
        "    # Loop over episodes\n",
        "    for episode in range(num_episodes):\n",
        "        # Initialize episode\n",
        "        state = env.reset()\n",
        "        done = False\n",
        "        policy = generate_epsilon_greedy_policy()\n",
        "        episode_data = []\n",
        "        \n",
        "        # Generate episode\n",
        "        while not done:\n",
        "            action = policy(state)\n",
        "            next_state, reward, done, _ = env.step(action)\n",
        "            episode_data.append((state, action, reward))\n",
        "            state = next_state\n",
        "        \n",
        "        # Update Q using Monte Carlo first-visit policy evaluation\n",
        "        G = 0\n",
        "        for t in range(len(episode_data) - 1, -1, -1):\n",
        "            state, action, reward = episode_data[t]\n",
        "            G = gamma * G + reward\n",
        "            if (state, action) not in [(x[0], x[1]) for x in episode_data[:t]]:\n",
        "                N[(state, action)] += 1\n",
        "                alpha = 1 / N[(state, action)]\n",
        "                Q[(state, action)] += alpha * (G - Q[(state, action)])\n",
        "        \n",
        "    # Generate final policy\n",
        "    policy = {}\n",
        "    for state in range(env.observation_space.n):\n",
        "        q_values = np.array([Q[(state, a)] for a in range(env.action_space.n)])\n",
        "        policy[state] = np.random.choice(np.where(q_values == q_values.max())[0])\n",
        "    \n",
        "    return Q, policy"
      ],
      "metadata": {
        "id": "VU1jq6kwqU9T",
        "colab": {
          "base_uri": "https://localhost:8080/"
        },
        "outputId": "e45d64c2-7a77-460b-8153-ca1a0867acd9"
      },
      "execution_count": null,
      "outputs": [
        {
          "output_type": "stream",
          "name": "stderr",
          "text": [
            "/usr/local/lib/python3.10/dist-packages/ipykernel/ipkernel.py:283: DeprecationWarning: `should_run_async` will not call `transform_cell` automatically in the future. Please pass the result to `transformed_cell` argument and any exception that happen during thetransform in `preprocessing_exc_tuple` in IPython 7.17 and above.\n",
            "  and should_run_async(code)\n"
          ]
        }
      ]
    },
    {
      "cell_type": "code",
      "source": [
        "def on_policy_mc_control(env, num_episodes, epsilon, gamma):\n",
        "    # Initialize empty dictionary for storing state-action values\n",
        "    Q = {}\n",
        "    for state in range(env.observation_space.n):\n",
        "        for action in range(env.action_space.n):\n",
        "            Q[(state, action)] = 0.0\n",
        "    \n",
        "    # Initialize empty dictionary for storing state-action counts\n",
        "    N = {}\n",
        "    for state in range(env.observation_space.n):\n",
        "        for action in range(env.action_space.n):\n",
        "            N[(state, action)] = 0\n",
        "    \n",
        "    # Define helper function to generate epsilon-soft policy\n",
        "    def generate_epsilon_soft_policy():\n",
        "        def policy(state):\n",
        "            probs = np.ones(env.action_space.n, dtype=float) * epsilon / env.action_space.n\n",
        "            q_values = np.array([Q[(state, a)] for a in range(env.action_space.n)])\n",
        "            best_action = np.random.choice(np.where(q_values == q_values.max())[0])\n",
        "            probs[best_action] += (1.0 - epsilon)\n",
        "            return np.random.choice(env.action_space.n, p=probs)\n",
        "        return policy\n",
        "    \n",
        "    # Loop over episodes\n",
        "    for episode in range(num_episodes):\n",
        "        # Initialize episode\n",
        "      \n",
        "        # Initialize episode\n",
        "        state = env.reset()\n",
        "        done = False\n",
        "        policy = generate_epsilon_soft_policy()\n",
        "        episode_data = []\n",
        "        \n",
        "        # Generate episode\n",
        "        while not done:\n",
        "            action = policy(state)\n",
        "            next_state, reward, done, _ = env.step(action)\n",
        "            episode_data.append((state, action, reward))\n",
        "            state = next_state\n",
        "        \n",
        "        # Update Q using Monte Carlo on-policy first-visit control\n",
        "        G = 0\n",
        "        W = 1\n",
        "        for t in range(len(episode_data) - 1, -1, -1):\n",
        "            state, action, reward = episode_data[t]\n",
        "            G = gamma * G + reward\n",
        "            N[(state, action)] += W\n",
        "            alpha = W / N[(state, action)]\n",
        "            Q[(state, action)] += alpha * (G - Q[(state, action)])\n",
        "            if action != np.argmax([Q[(state, a)] for a in range(env.action_space.n)]):\n",
        "                break\n",
        "            W = W / (1 - epsilon + epsilon / env.action_space.n)\n",
        "        \n",
        "    # Generate final policy\n",
        "    policy = {}\n",
        "    for state in range(env.observation_space.n):\n",
        "        q_values = np.array([Q[(state, a)] for a in range(env.action_space.n)])\n",
        "        policy[state] = np.argmax(q_values)\n",
        "    \n",
        "    return Q, policy"
      ],
      "metadata": {
        "id": "YK-8yxpVqZv6"
      },
      "execution_count": null,
      "outputs": []
    },
    {
      "cell_type": "code",
      "source": [
        "env = gym.make('CliffWalking-v0')"
      ],
      "metadata": {
        "colab": {
          "base_uri": "https://localhost:8080/"
        },
        "id": "JBbl42w2qedR",
        "outputId": "56aa3b63-24f7-41ed-b73a-97bb44c2f678"
      },
      "execution_count": null,
      "outputs": [
        {
          "output_type": "stream",
          "name": "stderr",
          "text": [
            "/usr/local/lib/python3.10/dist-packages/gym/core.py:317: DeprecationWarning: \u001b[33mWARN: Initializing wrapper in old step API which returns one bool instead of two. It is recommended to set `new_step_api=True` to use new step API. This will be the default behaviour in future.\u001b[0m\n",
            "  deprecation(\n",
            "/usr/local/lib/python3.10/dist-packages/gym/wrappers/step_api_compatibility.py:39: DeprecationWarning: \u001b[33mWARN: Initializing environment in old step API which returns one bool instead of two. It is recommended to set `new_step_api=True` to use new step API. This will be the default behaviour in future.\u001b[0m\n",
            "  deprecation(\n"
          ]
        }
      ]
    },
    {
      "cell_type": "code",
      "source": [
        "actions = env.action_space.n"
      ],
      "metadata": {
        "id": "Xs8FUIqJsQwk"
      },
      "execution_count": null,
      "outputs": []
    },
    {
      "cell_type": "markdown",
      "source": [
        "## Monte Carlo ES"
      ],
      "metadata": {
        "id": "D3GllI8qY5AA"
      }
    },
    {
      "cell_type": "code",
      "source": [
        "# Monte Carlo ES\n",
        "Q_mc_es, policy_mc_es = monte_carlo_es(env, num_episodes=500, epsilon=1.0, gamma=1.0)\n",
        "print('Monte Carlo ES')\n",
        "print('Number of episodes:', 500)\n",
        "print('Number of steps:', np.sum(list(Q_mc_es.values())))\n",
        "#print('Optimal policy:')\n",
        "#print(np.array([env.actions[policy_mc_es[s]] for s in range(env.observation_space.n)]).reshape(env.shape))"
      ],
      "metadata": {
        "colab": {
          "base_uri": "https://localhost:8080/"
        },
        "id": "OaKye7piqicB",
        "outputId": "9d17dae2-9c5e-46a3-b31d-e70670874ace"
      },
      "execution_count": null,
      "outputs": [
        {
          "output_type": "stream",
          "name": "stdout",
          "text": [
            "Monte Carlo ES\n",
            "Number of episodes: 500\n",
            "Number of steps: -8649054.6012345\n"
          ]
        }
      ]
    },
    {
      "cell_type": "markdown",
      "source": [
        "## On-Policy First Visit MC Control"
      ],
      "metadata": {
        "id": "TzI5N9BBY8Ro"
      }
    },
    {
      "cell_type": "code",
      "source": [
        " # On-policy first-visit MC control\n",
        "Q_on_policy_mc, policy_on_policy_mc = on_policy_mc_control(env, num_episodes=500, epsilon=0.1, gamma=1.0)\n",
        "print('On-policy first-visit MC control')\n",
        "print('Number of episodes:', 500)\n",
        "print('Number of steps:', np.sum(list(Q_on_policy_mc.values())))\n",
        "#print('Optimal policy:')\n",
        "#print(np.array([env.actions[policy_on_policy_mc[s]] for s in range(env.observation_space.n)]).reshape(env.shape))"
      ],
      "metadata": {
        "colab": {
          "base_uri": "https://localhost:8080/"
        },
        "id": "2rUUa9cDqqEy",
        "outputId": "1b4d638f-7b8a-4ad7-819e-2f013a1f5cb9"
      },
      "execution_count": null,
      "outputs": [
        {
          "output_type": "stream",
          "name": "stdout",
          "text": [
            "On-policy first-visit MC control\n",
            "Number of episodes: 500\n",
            "Number of steps: -1.0\n"
          ]
        }
      ]
    }
  ]
}